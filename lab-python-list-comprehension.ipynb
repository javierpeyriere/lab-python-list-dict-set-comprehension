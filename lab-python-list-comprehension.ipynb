{
 "cells": [
  {
   "cell_type": "markdown",
   "id": "25d7736c-ba17-4aff-b6bb-66eba20fbf4e",
   "metadata": {},
   "source": [
    "# Lab | List, Dict and Set Comprehension"
   ]
  },
  {
   "cell_type": "markdown",
   "id": "7dd3cbde-675a-4b81-92c3-f728846dbe06",
   "metadata": {},
   "source": [
    "## Exercise: Managing Customer Orders Optimized with Comprehension"
   ]
  },
  {
   "cell_type": "markdown",
   "id": "5d500160-2fb7-4777-b5e4-09d45ebaf328",
   "metadata": {},
   "source": [
    "In the previous exercise, you developed a program to manage customer orders and inventory. Now, let's take it a step further and incorporate comprehension into your code.\n",
    "\n",
    "Follow the steps below to complete the exercise:\n",
    "\n",
    "1. Review your code from the previous exercise and identify areas where you can apply comprehension to simplify and streamline your code. \n",
    "\n",
    "    - *Hint: Apply it to initialize inventory, updating the inventory and printing the updated inventory.*\n",
    "    \n",
    "    - For example, in initializing the inventory, we could have:\n",
    "    \n",
    "        ```python\n",
    "        def initialize_inventory(products):\n",
    "            inventory = {product: int(input(f\"Enter the quantity of {product}s available: \")) for product in products}\n",
    "            return inventory\n",
    "\n",
    "        ```\n",
    "<br>\n",
    "    \n",
    "    \n",
    "2. Modify the function get_customer_orders so it prompts the user to enter the number of customer orders and gathers the product names using a loop and user input. Use comprehension.\n",
    "\n",
    "3. Add a new function to calculate the total price of the customer order. For each product in customer_orders, prompt the user to enter the price of that product. Use comprehension to calculate the total price. Note: assume that the user can only have 1 unit of each product.\n",
    "\n",
    "4. Modify the update_inventory function to remove the product from the inventory if its quantity becomes zero after fulfilling the customer orders. Use comprehension to filter out the products with a quantity of zero from the inventory.\n",
    "\n",
    "5. Print the total price of the customer order.\n",
    "\n",
    "Your code should produce output similar to the following:\n",
    "\n",
    "```python\n",
    "Enter the quantity of t-shirts available:  5\n",
    "Enter the quantity of mugs available:  4\n",
    "Enter the quantity of hats available:  3\n",
    "Enter the quantity of books available:  2\n",
    "Enter the quantity of keychains available:  1\n",
    "Enter the number of customer orders:  2\n",
    "Enter the name of a product that a customer wants to order:  hat\n",
    "Enter the name of a product that a customer wants to order:  keychain\n",
    "\n",
    "Order Statistics:\n",
    "Total Products Ordered: 2\n",
    "Percentage of Unique Products Ordered: 40.0\n",
    "\n",
    "Updated Inventory:\n",
    "t-shirt: 5\n",
    "mug: 4\n",
    "hat: 2\n",
    "book: 2\n",
    "Enter the price of keychain:  5\n",
    "Enter the price of hat:  10\n",
    "Total Price: 15.0\n",
    "\n",
    "```\n"
   ]
  },
  {
   "cell_type": "code",
   "execution_count": 4,
   "id": "36819c9e",
   "metadata": {},
   "outputs": [],
   "source": [
    "def initialize_inventory(the_products):\n",
    "    \"\"\" Function initialising the quantity of products via user input for each product of a list.\"\"\"\n",
    "    \n",
    "    inventory= {}\n",
    "          \n",
    "    for product in the_products:\n",
    "        value = int(input(f'Can you enter the quantity of {product} (integer please)?'))\n",
    "        inventory[product]= value\n",
    "    return inventory\n",
    "\n",
    "def initialize_inventory2(the_products):\n",
    "    \"\"\" (version with comprehension) Function initialising the quantity of products via user input for each product of a list.\"\"\"\n",
    "    \n",
    "    print(f\"You are filling in the inventory, base on the following products: {the_products}\")\n",
    "    inventory= {} # to make sure the inventory is cleared \n",
    "    inventory={key : int(input(f'Can you enter the quantity of {key} (integer please)? ')) for key in the_products}\n",
    "    return inventory\n"
   ]
  },
  {
   "cell_type": "code",
   "execution_count": 5,
   "id": "ec2a2e47",
   "metadata": {},
   "outputs": [
    {
     "name": "stdout",
     "output_type": "stream",
     "text": [
      "You are filling in the inventory, base on the following products: ['cheese', 'butter', 'ham', 'nuts', 'coke']\n",
      "Can you enter the quantity of cheese (integer please)? 1\n",
      "Can you enter the quantity of butter (integer please)? 1\n",
      "Can you enter the quantity of ham (integer please)? 1\n",
      "Can you enter the quantity of nuts (integer please)? 1\n",
      "Can you enter the quantity of coke (integer please)? 1\n",
      "{'cheese': 1, 'butter': 1, 'ham': 1, 'nuts': 1, 'coke': 1}\n"
     ]
    }
   ],
   "source": [
    "# List for testing\n",
    "product = ['cheese', 'butter', 'ham', 'nuts', 'coke']\n",
    "\n",
    "# Intermediary check\n",
    "inventory = initialize_inventory2(product)\n",
    "print(inventory)"
   ]
  },
  {
   "cell_type": "code",
   "execution_count": 6,
   "id": "d6467959",
   "metadata": {},
   "outputs": [],
   "source": [
    "# 2/ Modify the function get_customer_orders so it prompts the user to enter the number of customer \n",
    "#    orders and gathers the product names using a loop and user input. Use comprehension.\n",
    "\n",
    "def get_customer_orders2():\n",
    "    \"\"\" Function to define how many products, and which of them the user wants to order. Output is a set \"\"\"\n",
    "    \n",
    "    counter = int(input(\"How many products do you want to order?\"))\n",
    "        \n",
    "    return set([input(f'Type the name of product {i} you want to order: ') for i in range(1,counter+1)])\n",
    "\n"
   ]
  },
  {
   "cell_type": "code",
   "execution_count": 7,
   "id": "32e061f1",
   "metadata": {},
   "outputs": [
    {
     "name": "stdout",
     "output_type": "stream",
     "text": [
      "How many products do you want to order?1\n",
      "Type the name of product 1 you want to order: coke\n",
      "{'coke'}\n"
     ]
    }
   ],
   "source": [
    "# Intermediary check\n",
    "order= get_customer_orders2()\n",
    "print(order)"
   ]
  },
  {
   "cell_type": "code",
   "execution_count": 8,
   "id": "26427116",
   "metadata": {},
   "outputs": [],
   "source": [
    "# Add a new function to calculate the total price of the customer order. For each product in customer_orders, prompt the user \n",
    "# to enter the price of that product. Use comprehension to calculate the total price. \n",
    "#Note: assume that the user can only have 1 unit of each product.\n",
    "\n",
    "def total_price(the_order):\n",
    "    \"\"\" Function calculating the total value of the order, with the input of the user for the price\"\"\"\n",
    "    \n",
    "    return sum(int(input(f'Value of the product {element}: ')) for element in the_order)\n",
    "    "
   ]
  },
  {
   "cell_type": "code",
   "execution_count": 9,
   "id": "93b1784a",
   "metadata": {},
   "outputs": [
    {
     "name": "stdout",
     "output_type": "stream",
     "text": [
      "Value of the product coke: 10\n",
      "The total price is: 10\n"
     ]
    }
   ],
   "source": [
    "# Intermediary check\n",
    "\n",
    "print(f\"The total price is: {total_price(order)}\")"
   ]
  },
  {
   "cell_type": "code",
   "execution_count": 10,
   "id": "b0ea4f97",
   "metadata": {},
   "outputs": [],
   "source": [
    "def update_inventory(orders,inventory):\n",
    "    \"\"\" (Original function with loops) Function that generates an updated inventory removing the products ordered\"\"\"\n",
    "    for product in orders:\n",
    "        if product in inventory.keys():\n",
    "            inventory[product]+=-1\n",
    "        else:\n",
    "            print(f\"Your product {product}, is not in the inventory list : {list(inventory.keys())}\")\n",
    "    return inventory  \n",
    "\n",
    "def update_inventory2(orders,inventory):\n",
    "    \"\"\" (Updated function with comprehension) Function that generates an updated inventory removing the products ordered\"\"\"\n",
    "    updated_inv = {key:value-1 if value in orders else value for (key,value) in inventory.items()}\n",
    "    return updated_inv \n",
    "\n",
    "# Modify the update_inventory function to remove the product from the inventory if its quantity becomes zero after fulfilling\n",
    "#the customer orders. Use comprehension to filter out the products with a quantity of zero from the inventory.\n",
    "\n",
    "# Print the total price of the customer order.\n",
    "def update_inventory3(orders,inventory):\n",
    "    \"\"\" (2nd update of the function) Function that generates an updated inventory removing the products ordered and removing\n",
    "    from the inventory the products at zero quantity\"\"\"\n",
    "    updated_inv = {key:value-1 if value in orders else value for (key,value) in inventory.items()}\n",
    "    updated_inv = {key:value for (key,value) in updated_inv.items() if value!= 0}\n",
    "    return updated_inv \n",
    "\n",
    "# else print(f\"Your product {product}, is not in the inventory list : {list(inventory.keys())}\")"
   ]
  },
  {
   "cell_type": "code",
   "execution_count": 11,
   "id": "e03ba611",
   "metadata": {},
   "outputs": [
    {
     "name": "stdout",
     "output_type": "stream",
     "text": [
      "{'cheese': 1, 'butter': 1, 'ham': 1, 'nuts': 1, 'coke': 0}\n",
      "{'cheese': 1, 'butter': 1, 'ham': 1, 'nuts': 1, 'coke': 0}\n",
      "{'cheese': 1, 'butter': 1, 'ham': 1, 'nuts': 1}\n"
     ]
    }
   ],
   "source": [
    "# My check\n",
    "print(update_inventory(order,inventory))\n",
    "print(update_inventory2(order,inventory))\n",
    "print(update_inventory3(order,inventory))"
   ]
  },
  {
   "cell_type": "code",
   "execution_count": 12,
   "id": "6b4a2382",
   "metadata": {},
   "outputs": [],
   "source": [
    "inventory_updated = inventory"
   ]
  },
  {
   "cell_type": "code",
   "execution_count": 13,
   "id": "579d28e2",
   "metadata": {},
   "outputs": [],
   "source": [
    "# No changes\n",
    "def calculate_order_statistics(customer_orders,products):\n",
    "    \n",
    "    return len(customer_orders), 100*len(customer_orders)/sum(products.values())\n"
   ]
  },
  {
   "cell_type": "code",
   "execution_count": 14,
   "id": "1fd0aa45",
   "metadata": {},
   "outputs": [],
   "source": [
    "# No changes\n",
    "def print_order_statistics(order_statistics):\n",
    "    \"\"\" Function for the statistics, number of items ordered, and % of overall products\"\"\"\n",
    "    print(f' Number of items ordered: {order_statistics[0]}')\n",
    "    print(f' Percentage of the overall inventory: {round(order_statistics[1],2)} %')\n",
    "   "
   ]
  },
  {
   "cell_type": "code",
   "execution_count": 15,
   "id": "cfab3635",
   "metadata": {},
   "outputs": [],
   "source": [
    "def print_updated_inventory(inventory):\n",
    "    \"\"\" Printing the quantities left\"\"\"\n",
    "    print(f\"The remnant inventory is:\")\n",
    "    for key,value in inventory.items():\n",
    "        print(f\"{key} : {value}\")\n",
    "\n",
    "def print_updated_inventory2(inventory):\n",
    "    \"\"\" Function to print the remnant inventory, as a list\"\"\"\n",
    "    # I did not manage to get it working like the original one... but finally done\n",
    "    \n",
    "    print(f\"The remnant inventory is:\")\n",
    "    {print(f\"{key}:{value}\" for (key,value) in inventory.items())}\n",
    "\n",
    "        "
   ]
  },
  {
   "cell_type": "code",
   "execution_count": 17,
   "id": "e6dbb574",
   "metadata": {},
   "outputs": [
    {
     "name": "stdout",
     "output_type": "stream",
     "text": [
      "The remnant inventory is:\n",
      "<generator object print_updated_inventory2.<locals>.<genexpr> at 0x0000014BF543E960>\n",
      "The remnant inventory is:\n",
      "cheese : 1\n",
      "butter : 1\n",
      "ham : 1\n",
      "nuts : 1\n",
      "coke : 0\n",
      "<generator object <genexpr> at 0x0000014BF543E420>\n"
     ]
    }
   ],
   "source": [
    "# My checks\n",
    "\n",
    "#print_updated_inventory(inventory_updated)\n",
    "print_updated_inventory2(inventory_updated)\n",
    "\n",
    "print_updated_inventory(inventory_updated)\n",
    "\n",
    "# Other test, whey does it generate a strange object...? (<generator object <genexpr> at 0x0000014BF543E420>)\n",
    "print(f\"{key}:{value}\" for (key,value) in inventory_updated.items())"
   ]
  },
  {
   "cell_type": "code",
   "execution_count": 3,
   "id": "4343673d",
   "metadata": {},
   "outputs": [
    {
     "ename": "NameError",
     "evalue": "name 'initialize_inventory2' is not defined",
     "output_type": "error",
     "traceback": [
      "\u001b[1;31m---------------------------------------------------------------------------\u001b[0m",
      "\u001b[1;31mNameError\u001b[0m                                 Traceback (most recent call last)",
      "Cell \u001b[1;32mIn[3], line 5\u001b[0m\n\u001b[0;32m      2\u001b[0m product \u001b[38;5;241m=\u001b[39m [\u001b[38;5;124m'\u001b[39m\u001b[38;5;124mcheese\u001b[39m\u001b[38;5;124m'\u001b[39m, \u001b[38;5;124m'\u001b[39m\u001b[38;5;124mbutter\u001b[39m\u001b[38;5;124m'\u001b[39m, \u001b[38;5;124m'\u001b[39m\u001b[38;5;124mham\u001b[39m\u001b[38;5;124m'\u001b[39m, \u001b[38;5;124m'\u001b[39m\u001b[38;5;124mnuts\u001b[39m\u001b[38;5;124m'\u001b[39m, \u001b[38;5;124m'\u001b[39m\u001b[38;5;124mcoke\u001b[39m\u001b[38;5;124m'\u001b[39m]\n\u001b[0;32m      4\u001b[0m \u001b[38;5;66;03m# Setting the inventory\u001b[39;00m\n\u001b[1;32m----> 5\u001b[0m inventory \u001b[38;5;241m=\u001b[39m initialize_inventory2(product)\n\u001b[0;32m      7\u001b[0m \u001b[38;5;66;03m# Ordering\u001b[39;00m\n\u001b[0;32m      8\u001b[0m order\u001b[38;5;241m=\u001b[39m get_customer_orders2()\n",
      "\u001b[1;31mNameError\u001b[0m: name 'initialize_inventory2' is not defined"
     ]
    }
   ],
   "source": [
    "# List for testing\n",
    "product = ['cheese', 'butter', 'ham', 'nuts', 'coke']\n",
    "\n",
    "# Setting the inventory\n",
    "inventory = initialize_inventory2(product)\n",
    "\n",
    "# Ordering\n",
    "order= get_customer_orders2()\n",
    "\n",
    "# Statistics\n",
    "statistics = calculate_order_statistics(order,inventory)\n",
    "\n",
    "# Update inventory\n",
    "inventory = update_inventory3(order,inventory)\n",
    "\n",
    "# Printing\n",
    "print_order_statistics(statistics)\n",
    "print_updated_inventory2(inventory)\n",
    "\n",
    "# Total price, and printing it\n",
    "print(f\"The total price is: {total_price(order)}\")"
   ]
  },
  {
   "cell_type": "code",
   "execution_count": null,
   "id": "f18ce359",
   "metadata": {},
   "outputs": [],
   "source": [
    "print(f\"{key}:{value}\" for (key,value) in inventory.items())"
   ]
  },
  {
   "cell_type": "code",
   "execution_count": null,
   "id": "477db04f",
   "metadata": {},
   "outputs": [],
   "source": []
  }
 ],
 "metadata": {
  "kernelspec": {
   "display_name": "Python 3 (ipykernel)",
   "language": "python",
   "name": "python3"
  },
  "language_info": {
   "codemirror_mode": {
    "name": "ipython",
    "version": 3
   },
   "file_extension": ".py",
   "mimetype": "text/x-python",
   "name": "python",
   "nbconvert_exporter": "python",
   "pygments_lexer": "ipython3",
   "version": "3.11.5"
  }
 },
 "nbformat": 4,
 "nbformat_minor": 5
}
